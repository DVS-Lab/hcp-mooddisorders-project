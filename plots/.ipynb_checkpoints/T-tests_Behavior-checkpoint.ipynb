{
 "cells": [
  {
   "cell_type": "code",
   "execution_count": 35,
   "metadata": {},
   "outputs": [],
   "source": [
    "import numpy as np\n",
    "from scipy import stats\n",
    "from scipy.stats import ttest_ind\n",
    "from scipy.stats import t\n",
    "import math\n",
    "from math import sqrt\n",
    "import pandas as pd\n",
    "import matplotlib.pyplot as plt\n",
    "import re \n",
    "\n",
    "#population sizes\n",
    "dep_n = 71\n",
    "fam_n = 103\n",
    "hc_n = 105"
   ]
  },
  {
   "cell_type": "code",
   "execution_count": 4,
   "metadata": {},
   "outputs": [
    {
     "data": {
      "text/html": [
       "<div>\n",
       "<style scoped>\n",
       "    .dataframe tbody tr th:only-of-type {\n",
       "        vertical-align: middle;\n",
       "    }\n",
       "\n",
       "    .dataframe tbody tr th {\n",
       "        vertical-align: top;\n",
       "    }\n",
       "\n",
       "    .dataframe thead th {\n",
       "        text-align: right;\n",
       "    }\n",
       "</style>\n",
       "<table border=\"1\" class=\"dataframe\">\n",
       "  <thead>\n",
       "    <tr style=\"text-align: right;\">\n",
       "      <th></th>\n",
       "      <th>DEP_DEP</th>\n",
       "      <th>DEP_SAD</th>\n",
       "      <th>DEP_ALC</th>\n",
       "      <th>DEP_TOB</th>\n",
       "      <th>DEP_SOC</th>\n",
       "      <th>DEP_RAND</th>\n",
       "      <th>DEP_UNS</th>\n",
       "      <th>FAM_DEP</th>\n",
       "      <th>FAM_SAD</th>\n",
       "      <th>FAM_ALC</th>\n",
       "      <th>...</th>\n",
       "      <th>FAM_SOC</th>\n",
       "      <th>FAM_RAND</th>\n",
       "      <th>FAM_UNS</th>\n",
       "      <th>HC_DEP</th>\n",
       "      <th>HC_SAD</th>\n",
       "      <th>HC_ALC</th>\n",
       "      <th>HC_TOB</th>\n",
       "      <th>HC_SOC</th>\n",
       "      <th>HC_RAND</th>\n",
       "      <th>HC_UNS</th>\n",
       "    </tr>\n",
       "  </thead>\n",
       "  <tbody>\n",
       "    <tr>\n",
       "      <th>0</th>\n",
       "      <td>6.0</td>\n",
       "      <td>48.2</td>\n",
       "      <td>3.0</td>\n",
       "      <td>0.0</td>\n",
       "      <td>50.0</td>\n",
       "      <td>50.0</td>\n",
       "      <td>0.0</td>\n",
       "      <td>2.0</td>\n",
       "      <td>48.1</td>\n",
       "      <td>6.0</td>\n",
       "      <td>...</td>\n",
       "      <td>40.0</td>\n",
       "      <td>50.0</td>\n",
       "      <td>10.0</td>\n",
       "      <td>0.0</td>\n",
       "      <td>34.2</td>\n",
       "      <td>0.0</td>\n",
       "      <td>0.0</td>\n",
       "      <td>50.0</td>\n",
       "      <td>40.0</td>\n",
       "      <td>10.0</td>\n",
       "    </tr>\n",
       "    <tr>\n",
       "      <th>1</th>\n",
       "      <td>7.0</td>\n",
       "      <td>51.3</td>\n",
       "      <td>1.0</td>\n",
       "      <td>0.0</td>\n",
       "      <td>60.0</td>\n",
       "      <td>40.0</td>\n",
       "      <td>0.0</td>\n",
       "      <td>2.0</td>\n",
       "      <td>43.6</td>\n",
       "      <td>1.0</td>\n",
       "      <td>...</td>\n",
       "      <td>50.0</td>\n",
       "      <td>50.0</td>\n",
       "      <td>0.0</td>\n",
       "      <td>0.0</td>\n",
       "      <td>48.5</td>\n",
       "      <td>0.0</td>\n",
       "      <td>0.0</td>\n",
       "      <td>50.0</td>\n",
       "      <td>50.0</td>\n",
       "      <td>0.0</td>\n",
       "    </tr>\n",
       "    <tr>\n",
       "      <th>2</th>\n",
       "      <td>8.0</td>\n",
       "      <td>54.3</td>\n",
       "      <td>15.0</td>\n",
       "      <td>0.0</td>\n",
       "      <td>50.0</td>\n",
       "      <td>50.0</td>\n",
       "      <td>0.0</td>\n",
       "      <td>0.0</td>\n",
       "      <td>34.2</td>\n",
       "      <td>0.0</td>\n",
       "      <td>...</td>\n",
       "      <td>30.0</td>\n",
       "      <td>20.0</td>\n",
       "      <td>50.0</td>\n",
       "      <td>3.0</td>\n",
       "      <td>56.2</td>\n",
       "      <td>2.0</td>\n",
       "      <td>0.0</td>\n",
       "      <td>40.0</td>\n",
       "      <td>50.0</td>\n",
       "      <td>10.0</td>\n",
       "    </tr>\n",
       "    <tr>\n",
       "      <th>3</th>\n",
       "      <td>7.0</td>\n",
       "      <td>45.7</td>\n",
       "      <td>0.0</td>\n",
       "      <td>0.0</td>\n",
       "      <td>50.0</td>\n",
       "      <td>50.0</td>\n",
       "      <td>0.0</td>\n",
       "      <td>0.0</td>\n",
       "      <td>48.2</td>\n",
       "      <td>0.0</td>\n",
       "      <td>...</td>\n",
       "      <td>25.0</td>\n",
       "      <td>50.0</td>\n",
       "      <td>25.0</td>\n",
       "      <td>0.0</td>\n",
       "      <td>49.4</td>\n",
       "      <td>0.0</td>\n",
       "      <td>0.0</td>\n",
       "      <td>50.0</td>\n",
       "      <td>50.0</td>\n",
       "      <td>0.0</td>\n",
       "    </tr>\n",
       "    <tr>\n",
       "      <th>4</th>\n",
       "      <td>6.0</td>\n",
       "      <td>65.8</td>\n",
       "      <td>0.0</td>\n",
       "      <td>0.0</td>\n",
       "      <td>50.0</td>\n",
       "      <td>50.0</td>\n",
       "      <td>0.0</td>\n",
       "      <td>9.0</td>\n",
       "      <td>64.0</td>\n",
       "      <td>0.0</td>\n",
       "      <td>...</td>\n",
       "      <td>30.0</td>\n",
       "      <td>40.0</td>\n",
       "      <td>30.0</td>\n",
       "      <td>0.0</td>\n",
       "      <td>39.6</td>\n",
       "      <td>0.0</td>\n",
       "      <td>0.0</td>\n",
       "      <td>40.0</td>\n",
       "      <td>50.0</td>\n",
       "      <td>10.0</td>\n",
       "    </tr>\n",
       "  </tbody>\n",
       "</table>\n",
       "<p>5 rows × 21 columns</p>\n",
       "</div>"
      ],
      "text/plain": [
       "   DEP_DEP  DEP_SAD  DEP_ALC  DEP_TOB  DEP_SOC  DEP_RAND  DEP_UNS  FAM_DEP  \\\n",
       "0      6.0     48.2      3.0      0.0     50.0      50.0      0.0      2.0   \n",
       "1      7.0     51.3      1.0      0.0     60.0      40.0      0.0      2.0   \n",
       "2      8.0     54.3     15.0      0.0     50.0      50.0      0.0      0.0   \n",
       "3      7.0     45.7      0.0      0.0     50.0      50.0      0.0      0.0   \n",
       "4      6.0     65.8      0.0      0.0     50.0      50.0      0.0      9.0   \n",
       "\n",
       "   FAM_SAD  FAM_ALC   ...    FAM_SOC  FAM_RAND  FAM_UNS  HC_DEP  HC_SAD  \\\n",
       "0     48.1      6.0   ...       40.0      50.0     10.0     0.0    34.2   \n",
       "1     43.6      1.0   ...       50.0      50.0      0.0     0.0    48.5   \n",
       "2     34.2      0.0   ...       30.0      20.0     50.0     3.0    56.2   \n",
       "3     48.2      0.0   ...       25.0      50.0     25.0     0.0    49.4   \n",
       "4     64.0      0.0   ...       30.0      40.0     30.0     0.0    39.6   \n",
       "\n",
       "   HC_ALC  HC_TOB  HC_SOC  HC_RAND  HC_UNS  \n",
       "0     0.0     0.0    50.0     40.0    10.0  \n",
       "1     0.0     0.0    50.0     50.0     0.0  \n",
       "2     2.0     0.0    40.0     50.0    10.0  \n",
       "3     0.0     0.0    50.0     50.0     0.0  \n",
       "4     0.0     0.0    40.0     50.0    10.0  \n",
       "\n",
       "[5 rows x 21 columns]"
      ]
     },
     "execution_count": 4,
     "metadata": {},
     "output_type": "execute_result"
    }
   ],
   "source": [
    "# here I am going to replicate everything seen below but calculations will be done straight from a pandas dataframe\n",
    "df_behav = pd.read_csv(\"behavioral_data.csv\")\n",
    "df_behav.head()"
   ]
  },
  {
   "cell_type": "code",
   "execution_count": 5,
   "metadata": {},
   "outputs": [
    {
     "data": {
      "text/plain": [
       "DEP_DEP      6.718310\n",
       "DEP_SAD     52.608451\n",
       "DEP_ALC      4.661972\n",
       "DEP_TOB      5.450704\n",
       "DEP_SOC     51.408451\n",
       "DEP_RAND    43.450704\n",
       "DEP_UNS      5.140845\n",
       "FAM_DEP      1.339806\n",
       "FAM_SAD     46.884466\n",
       "FAM_ALC      4.165049\n",
       "FAM_TOB      6.533981\n",
       "FAM_SOC     42.815534\n",
       "FAM_RAND    49.563107\n",
       "FAM_UNS      7.621359\n",
       "HC_DEP       0.597792\n",
       "HC_SAD      44.636450\n",
       "HC_ALC       4.295639\n",
       "HC_TOB       5.123611\n",
       "HC_SOC      43.474765\n",
       "HC_RAND     49.097271\n",
       "HC_UNS       5.833372\n",
       "dtype: float64"
      ]
     },
     "execution_count": 5,
     "metadata": {},
     "output_type": "execute_result"
    }
   ],
   "source": [
    "df_behav.mean()"
   ]
  },
  {
   "cell_type": "code",
   "execution_count": 22,
   "metadata": {
    "collapsed": true
   },
   "outputs": [
    {
     "data": {
      "text/plain": [
       "DEP_DEP      1.255651\n",
       "DEP_SAD      8.382733\n",
       "DEP_ALC      7.193139\n",
       "DEP_TOB     17.789073\n",
       "DEP_SOC      7.472956\n",
       "DEP_RAND     9.731816\n",
       "DEP_UNS      7.790646\n",
       "FAM_DEP      2.403239\n",
       "FAM_SAD      8.543565\n",
       "FAM_ALC      6.100622\n",
       "FAM_TOB     21.076339\n",
       "FAM_SOC     12.018570\n",
       "FAM_RAND    10.758189\n",
       "FAM_UNS     10.214481\n",
       "HC_DEP       1.774718\n",
       "HC_SAD       8.816300\n",
       "HC_ALC       6.862039\n",
       "HC_TOB      19.212615\n",
       "HC_SOC      11.265608\n",
       "HC_RAND      9.237015\n",
       "HC_UNS       8.233945\n",
       "dtype: float64"
      ]
     },
     "execution_count": 22,
     "metadata": {},
     "output_type": "execute_result"
    }
   ],
   "source": [
    "behav_std = df_behav.std()\n",
    "behav_std "
   ]
  },
  {
   "cell_type": "code",
   "execution_count": 92,
   "metadata": {
    "scrolled": false
   },
   "outputs": [
    {
     "name": "stdout",
     "output_type": "stream",
     "text": [
      "DEP_DEP100\n",
      "DEP_SAD100\n",
      "DEP_ALC100\n",
      "DEP_TOB100\n",
      "DEP_SOC100\n",
      "DEP_RAND100\n",
      "DEP_UNS100\n",
      "FAM_DEP100\n",
      "FAM_SAD100\n",
      "FAM_ALC100\n",
      "FAM_TOB100\n",
      "FAM_SOC100\n",
      "FAM_RAND100\n",
      "FAM_UNS100\n",
      "HC_DEP100\n",
      "HC_SAD100\n",
      "HC_ALC100\n",
      "HC_TOB100\n",
      "HC_SOC100\n",
      "HC_RAND100\n",
      "HC_UNS100\n"
     ]
    }
   ],
   "source": [
    "#dep_se = df_behav[\"DEP_DEP\"].std()/(math.sqrt(dep_n))\n",
    "\n",
    "dep_cols = df_behav.columns[df_behav.columns.str.startswith('DEP')]\n",
    "fam_cols = df_behav.columns[df_behav.columns.str.startswith('FAM')]\n",
    "hc_cols = df_behav.columns[df_behav.columns.str.startswith('HC')]\n",
    "\n",
    "for i in df_behav:\n",
    "    if df_behav.columns[df_behav.columns.str.startswith('DEP')].all():\n",
    "        print(i + \"100\")\n"
   ]
  },
  {
   "cell_type": "code",
   "execution_count": 43,
   "metadata": {},
   "outputs": [],
   "source": [
    "DEP_DEP_se = 1.2556512094361842\n",
    "DEP_SAD_se = 8.382733043565091\n",
    "DEP_ALC_se = 7.193138917392702\n",
    "DEP_TOB_se = 17.78907267509577\n",
    "DEP_SOC_se = 7.472955936076112\n",
    "DEP_RAND_se = 9.731816351379731\n",
    "DEP_UNS_se = 7.790645993108639\n",
    "\n",
    "FAM_DEP_se = 2.4032388197329895\n",
    "FAM_SAD_se = 8.543564913299107\n",
    "FAM_ALC_se =6.1006220952129775\n",
    "FAM_TOB_se =21.076339086609373\n",
    "FAM_SOC_se = 12.018570249389917\n",
    "FAM_RAND_se =10.758188767041894\n",
    "FAM_UNS_se =10.214480786718564\n",
    "\n",
    "\n",
    "HC_DEP_se =1.7747184046132485\n",
    "HC_SAD_se =8.816300132149676\n",
    "HC_ALC_se =6.862039004937097\n",
    "HC_TOB_se =19.212615176031964\n",
    "HC_SOC_se =11.265607673707656\n",
    "HC_RAND_se =9.237014833667217\n",
    "HC_UNS_se =8.233944979582327\n",
    "#works: DEP_DEP_se = df_behav[\"DEP_DEP\"].std()/(math.sqrt(dep_n))\n",
    "#works: DEP_DEP_se"
   ]
  },
  {
   "cell_type": "code",
   "execution_count": 2,
   "metadata": {},
   "outputs": [],
   "source": [
    "#social ToM task performance\n",
    "\n",
    "dep_social_avg = 51.4084507\n",
    "dep_rand_avg = 43.45070423\n",
    "dep_unsure_avg = 5.14084507\n",
    "\n",
    "fam_social_avg = 49.5631068\n",
    "fam_rand_avg = 42.81553398\n",
    "fam_unsure_avg = 7.621359223\n",
    "\n",
    "hc_social_avg = 49.95238095\n",
    "hc_rand_avg = 44.19047619\n",
    "hc_unsure_avg = 5.857142857\n",
    "\n",
    "\n",
    "dep_social_err = 0.886876704\n",
    "dep_rand_err = 1.154954115\n",
    "dep_unsure_err = 0.924579577\n",
    "\n",
    "fam_social_err = 1.060035837\n",
    "fam_rand_err = 1.184224915\n",
    "fam_unsure_err = 1.006462698\n",
    "\n",
    "hc_social_err = 6.881386478\n",
    "hc_rand_err = 10.09864351\n",
    "hc_unsure_err = 8.333699626\n",
    "\n",
    "\n",
    "# t = (mean(X1) - mean(X2)) / sed\n",
    "\n",
    "# Where X1 and X2 are the first and second data samples\n",
    "# sed is the standard error of the difference between the means.\n",
    "\n",
    "# Calculate standard error of the difference between the means:\n",
    "\n",
    "# sed = sqrt(se1^2 + se2^2)\n"
   ]
  },
  {
   "cell_type": "code",
   "execution_count": 12,
   "metadata": {},
   "outputs": [
    {
     "name": "stdout",
     "output_type": "stream",
     "text": [
      "t-stat is: 1.3351649027708075 degrees of freedom is: 172 critical value is: 1.6537609493607581 p-value: 0.18358677860926087\n"
     ]
    }
   ],
   "source": [
    "# DEP VS FAM SOC\n",
    "\n",
    "df_soc_depvfam = dep_n + fam_n - 2\n",
    "\n",
    "sed_soc_depvfam = sqrt(dep_social_err**2 + fam_social_err**2) #use ** instead of ^, stupid\n",
    "\n",
    "t_stat_soc_depvfam = (dep_social_avg - fam_social_avg) / sed_soc_depvfam\n",
    "\n",
    "alpha_soc_depvfam = 0.05\n",
    "\n",
    "criticalvalue_soc_depvfam = t.ppf(1.0 - alpha_soc_depvfam, df_soc_depvfam)\n",
    "p_soc_depvfam = (1.0 - t.cdf(abs(t_stat_soc_depvfam), df_soc_depvfam)) * 2.0\n",
    "\n",
    "#FULL RESULTS\n",
    "print('t-stat is:',t_stat_soc_depvfam,\n",
    "      'degrees of freedom is:',df_soc_depvfam, 'critical value is:',criticalvalue_soc_depvfam,'p-value:', p_soc_depvfam)"
   ]
  },
  {
   "cell_type": "code",
   "execution_count": 13,
   "metadata": {},
   "outputs": [
    {
     "name": "stdout",
     "output_type": "stream",
     "text": [
      "t-stat is: 0.20985967719288603 degrees of freedom is: 174 critical value is: 1.653658016514993 p-value: 0.834022715880433\n"
     ]
    }
   ],
   "source": [
    "#DEP VS HC - SOC\n",
    "\n",
    "df_soc_depvhc = dep_n + hc_n - 2\n",
    "\n",
    "sed_soc_depvhc = sqrt(dep_social_err**2 + hc_social_err**2) #use ** instead of ^, stupid\n",
    "\n",
    "t_stat_soc_depvhc = (dep_social_avg - hc_social_avg) / sed_soc_depvhc\n",
    "\n",
    "alpha_soc_depvhc = 0.05\n",
    "\n",
    "criticalvalue_soc_depvhc = t.ppf(1.0 - alpha_soc_depvhc, df_soc_depvhc)\n",
    "p_soc_depvhc = (1.0 - t.cdf(abs(t_stat_soc_depvhc), df_soc_depvhc)) * 2.0\n",
    "\n",
    "#FULL RESULTS\n",
    "print('t-stat is:',t_stat_soc_depvhc,\n",
    "      'degrees of freedom is:',df_soc_depvhc, 'critical value is:',criticalvalue_soc_depvhc,'p-value:', p_soc_depvhc)"
   ]
  },
  {
   "cell_type": "code",
   "execution_count": 14,
   "metadata": {},
   "outputs": [
    {
     "name": "stdout",
     "output_type": "stream",
     "text": [
      "t-stat is: 1.3351649027708075 degrees of freedom is: 172 critical value is: 1.6537609493607581 p-value: 0.18358677860926087\n"
     ]
    }
   ],
   "source": [
    "# DEP VS FAM - RAND\n",
    "\n",
    "df_rand_depvfam = dep_n + fam_n - 2\n",
    "\n",
    "sed_rand_depvfam = sqrt(dep_rand_err**2 + fam_rand_err**2) #use ** instead of ^, stupid\n",
    "\n",
    "t_stat_rand_depvfam = (dep_rand_avg - fam_rand_avg) / sed_rand_depvfam\n",
    "\n",
    "alpha_rand_depvfam = 0.05\n",
    "\n",
    "criticalvalue_rand_depvfam = t.ppf(1.0 - alpha_rand_depvfam, df_rand_depvfam)\n",
    "p_rand_depvfam = (1.0 - t.cdf(abs(t_stat_rand_depvfam), df_rand_depvfam)) * 2.0\n",
    "\n",
    "#FULL RESULTS\n",
    "print('t-stat is:',t_stat_soc_depvfam,\n",
    "      'degrees of freedom is:',df_soc_depvfam, 'critical value is:',criticalvalue_soc_depvfam,'p-value:', p_soc_depvfam)"
   ]
  },
  {
   "cell_type": "code",
   "execution_count": 16,
   "metadata": {},
   "outputs": [
    {
     "name": "stdout",
     "output_type": "stream",
     "text": [
      "t-stat is: -0.07278015594030982 degrees of freedom is: 174 critical value is: 1.653658016514993 p-value: 0.9420646558352077\n"
     ]
    }
   ],
   "source": [
    "# DEP VS HC - RAND\n",
    "\n",
    "df_rand_depvhc = dep_n + hc_n - 2\n",
    "\n",
    "sed_rand_depvhc = sqrt(dep_rand_err**2 + hc_rand_err**2) #use ** instead of ^, stupid\n",
    "\n",
    "t_stat_rand_depvhc = (dep_rand_avg - hc_rand_avg) / sed_rand_depvhc\n",
    "\n",
    "alpha_rand_depvhc = 0.05\n",
    "\n",
    "criticalvalue_rand_depvhc = t.ppf(1.0 - alpha_rand_depvhc, df_rand_depvhc)\n",
    "p_rand_depvhc = (1.0 - t.cdf(abs(t_stat_rand_depvhc), df_rand_depvhc)) * 2.0\n",
    "\n",
    "#FULL RESULTS\n",
    "print('t-stat is:',t_stat_rand_depvhc,\n",
    "      'degrees of freedom is:',df_rand_depvhc, 'critical value is:',criticalvalue_rand_depvhc,'p-value:', p_rand_depvhc)"
   ]
  },
  {
   "cell_type": "code",
   "execution_count": 18,
   "metadata": {},
   "outputs": [
    {
     "name": "stdout",
     "output_type": "stream",
     "text": [
      "t-stat is: -1.8149924861994307 degrees of freedom is: 172 critical value is: 1.6537609493607581 p-value: 0.07126710724051577\n"
     ]
    }
   ],
   "source": [
    "#DEP VS FAM - UNSURE\n",
    "\n",
    "df_unsure_depvfam = dep_n + fam_n - 2\n",
    "\n",
    "sed_unsure_depvfam = sqrt(dep_unsure_err**2 + fam_unsure_err**2) #use ** instead of ^, stupid\n",
    "\n",
    "t_stat_unsure_depvfam = (dep_unsure_avg - fam_unsure_avg) / sed_unsure_depvfam\n",
    "\n",
    "alpha_unsure_depvfam = 0.05\n",
    "\n",
    "criticalvalue_unsure_depvfam = t.ppf(1.0 - alpha_unsure_depvfam, df_unsure_depvfam)\n",
    "p_unsure_depvfam = (1.0 - t.cdf(abs(t_stat_unsure_depvfam), df_unsure_depvfam)) * 2.0\n",
    "\n",
    "#FULL RESULTS\n",
    "print('t-stat is:',t_stat_unsure_depvfam,\n",
    "      'degrees of freedom is:',df_unsure_depvfam, 'critical value is:',criticalvalue_unsure_depvfam,'p-value:', p_unsure_depvfam)"
   ]
  },
  {
   "cell_type": "code",
   "execution_count": 19,
   "metadata": {},
   "outputs": [
    {
     "name": "stdout",
     "output_type": "stream",
     "text": [
      "t-stat is: -0.08542781085023722 degrees of freedom is: 174 critical value is: 1.653658016514993 p-value: 0.932019501285813\n"
     ]
    }
   ],
   "source": [
    "#DEP VS HC - UNSURE\n",
    "\n",
    "df_unsure_depvhc = dep_n + hc_n - 2\n",
    "\n",
    "sed_unsure_depvhc = sqrt(dep_unsure_err**2 + hc_unsure_err**2) #use ** instead of ^, weird\n",
    "\n",
    "t_stat_unsure_depvhc = (dep_unsure_avg - hc_unsure_avg) / sed_unsure_depvhc\n",
    "\n",
    "alpha_unsure_depvhc = 0.05\n",
    "\n",
    "criticalvalue_unsure_depvhc = t.ppf(1.0 - alpha_unsure_depvhc, df_unsure_depvhc)\n",
    "p_unsure_depvhc = (1.0 - t.cdf(abs(t_stat_unsure_depvhc), df_unsure_depvhc)) * 2.0\n",
    "\n",
    "#FULL RESULTS\n",
    "print('t-stat is:',t_stat_unsure_depvhc,\n",
    "      'degrees of freedom is:',df_unsure_depvhc, 'critical value is:',criticalvalue_unsure_depvhc,'p-value:', p_unsure_depvhc)"
   ]
  },
  {
   "cell_type": "code",
   "execution_count": 3,
   "metadata": {},
   "outputs": [
    {
     "name": "stdout",
     "output_type": "stream",
     "text": [
      "t-stat is: 0.2101694993581074 degrees of freedom is: 206 critical value is: 1.6522841441882308 p-value: 0.8337431089504215\n"
     ]
    }
   ],
   "source": [
    "#FAM VS HC - UNSURE\n",
    "\n",
    "df_unsure_famvhc = fam_n + hc_n - 2\n",
    "\n",
    "sed_unsure_famvhc = sqrt(fam_unsure_err**2 + hc_unsure_err**2) #use ** instead of ^, weird\n",
    "\n",
    "t_stat_unsure_famvhc = (fam_unsure_avg - hc_unsure_avg) / sed_unsure_famvhc\n",
    "\n",
    "alpha_unsure_famvhc = 0.05\n",
    "\n",
    "criticalvalue_unsure_famvhc = t.ppf(1.0 - alpha_unsure_famvhc, df_unsure_famvhc)\n",
    "p_unsure_famvhc = (1.0 - t.cdf(abs(t_stat_unsure_famvhc), df_unsure_famvhc)) * 2.0\n",
    "\n",
    "#FULL RESULTS\n",
    "print('t-stat is:',t_stat_unsure_famvhc,\n",
    "      'degrees of freedom is:',df_unsure_famvhc, 'critical value is:',criticalvalue_unsure_famvhc,'p-value:', p_unsure_famvhc)"
   ]
  },
  {
   "cell_type": "code",
   "execution_count": 4,
   "metadata": {},
   "outputs": [
    {
     "name": "stdout",
     "output_type": "stream",
     "text": [
      "t-stat is: -0.05590967904966158 degrees of freedom is: 206 critical value is: 1.6522841441882308 p-value: 0.9554679490783249\n"
     ]
    }
   ],
   "source": [
    "#FAM VS HC - SOCIAL\n",
    "\n",
    "df_social_famvhc = fam_n + hc_n - 2\n",
    "\n",
    "sed_social_famvhc = sqrt(fam_social_err**2 + hc_social_err**2) #use ** instead of ^, weird\n",
    "\n",
    "t_stat_social_famvhc = (fam_social_avg - hc_social_avg) / sed_social_famvhc\n",
    "\n",
    "alpha_social_famvhc = 0.05\n",
    "\n",
    "criticalvalue_social_famvhc = t.ppf(1.0 - alpha_social_famvhc, df_social_famvhc)\n",
    "p_social_famvhc = (1.0 - t.cdf(abs(t_stat_social_famvhc), df_social_famvhc)) * 2.0\n",
    "\n",
    "#FULL RESULTS\n",
    "print('t-stat is:',t_stat_social_famvhc,\n",
    "      'degrees of freedom is:',df_social_famvhc, 'critical value is:',criticalvalue_social_famvhc,'p-value:', p_social_famvhc)"
   ]
  },
  {
   "cell_type": "code",
   "execution_count": 5,
   "metadata": {},
   "outputs": [
    {
     "name": "stdout",
     "output_type": "stream",
     "text": [
      "t-stat is: -0.13522459861886496 degrees of freedom is: 206 critical value is: 1.6522841441882308 p-value: 0.892566336839334\n"
     ]
    }
   ],
   "source": [
    "#FAM VS HC - SOCIAL\n",
    "\n",
    "df_rand_famvhc = fam_n + hc_n - 2\n",
    "\n",
    "sed_rand_famvhc = sqrt(fam_rand_err**2 + hc_rand_err**2) #use ** instead of ^, weird\n",
    "\n",
    "t_stat_rand_famvhc = (fam_rand_avg - hc_rand_avg) / sed_rand_famvhc\n",
    "\n",
    "alpha_rand_famvhc = 0.05\n",
    "\n",
    "criticalvalue_rand_famvhc = t.ppf(1.0 - alpha_rand_famvhc, df_rand_famvhc)\n",
    "p_rand_famvhc = (1.0 - t.cdf(abs(t_stat_rand_famvhc), df_rand_famvhc)) * 2.0\n",
    "\n",
    "#FULL RESULTS\n",
    "print('t-stat is:',t_stat_rand_famvhc,\n",
    "      'degrees of freedom is:',df_rand_famvhc, 'critical value is:',criticalvalue_rand_famvhc,'p-value:', p_rand_famvhc)"
   ]
  },
  {
   "cell_type": "code",
   "execution_count": null,
   "metadata": {},
   "outputs": [],
   "source": []
  }
 ],
 "metadata": {
  "kernelspec": {
   "display_name": "Python 3",
   "language": "python",
   "name": "python3"
  },
  "language_info": {
   "codemirror_mode": {
    "name": "ipython",
    "version": 3
   },
   "file_extension": ".py",
   "mimetype": "text/x-python",
   "name": "python",
   "nbconvert_exporter": "python",
   "pygments_lexer": "ipython3",
   "version": "3.7.1"
  }
 },
 "nbformat": 4,
 "nbformat_minor": 2
}
