{
 "cells": [
  {
   "cell_type": "code",
   "execution_count": 1,
   "metadata": {},
   "outputs": [],
   "source": [
    "import numpy as np\n",
    "from scipy import stats\n",
    "from scipy.stats import ttest_ind\n",
    "from scipy.stats import t\n",
    "from math import sqrt\n",
    "#population sizes\n",
    "dep_n = 71\n",
    "fam_n = 103\n",
    "hc_n = 105"
   ]
  },
  {
   "cell_type": "code",
   "execution_count": 2,
   "metadata": {},
   "outputs": [],
   "source": [
    "#social ToM task performance\n",
    "\n",
    "dep_social_avg = 51.4084507\n",
    "dep_rand_avg = 43.45070423\n",
    "dep_unsure_avg = 5.14084507\n",
    "\n",
    "fam_social_avg = 49.5631068\n",
    "fam_rand_avg = 42.81553398\n",
    "fam_unsure_avg = 7.621359223\n",
    "\n",
    "hc_social_avg = 49.95238095\n",
    "hc_rand_avg = 44.19047619\n",
    "hc_unsure_avg = 5.857142857\n",
    "\n",
    "\n",
    "dep_social_err = 0.886876704\n",
    "dep_rand_err = 1.154954115\n",
    "dep_unsure_err = 0.924579577\n",
    "\n",
    "fam_social_err = 1.060035837\n",
    "fam_rand_err = 1.184224915\n",
    "fam_unsure_err = 1.006462698\n",
    "\n",
    "hc_social_err = 6.881386478\n",
    "hc_rand_err = 10.09864351\n",
    "hc_unsure_err = 8.333699626\n",
    "\n",
    "\n",
    "# t = (mean(X1) - mean(X2)) / sed\n",
    "\n",
    "# Where X1 and X2 are the first and second data samples\n",
    "# sed is the standard error of the difference between the means.\n",
    "\n",
    "# Calculate standard error of the difference between the means:\n",
    "\n",
    "# sed = sqrt(se1^2 + se2^2)\n"
   ]
  },
  {
   "cell_type": "code",
   "execution_count": 12,
   "metadata": {},
   "outputs": [
    {
     "name": "stdout",
     "output_type": "stream",
     "text": [
      "t-stat is: 1.3351649027708075 degrees of freedom is: 172 critical value is: 1.6537609493607581 p-value: 0.18358677860926087\n"
     ]
    }
   ],
   "source": [
    "# DEP VS FAM SOC\n",
    "\n",
    "df_soc_depvfam = dep_n + fam_n - 2\n",
    "\n",
    "sed_soc_depvfam = sqrt(dep_social_err**2 + fam_social_err**2) #use ** instead of ^, stupid\n",
    "\n",
    "t_stat_soc_depvfam = (dep_social_avg - fam_social_avg) / sed_soc_depvfam\n",
    "\n",
    "alpha_soc_depvfam = 0.05\n",
    "\n",
    "criticalvalue_soc_depvfam = t.ppf(1.0 - alpha_soc_depvfam, df_soc_depvfam)\n",
    "p_soc_depvfam = (1.0 - t.cdf(abs(t_stat_soc_depvfam), df_soc_depvfam)) * 2.0\n",
    "\n",
    "#FULL RESULTS\n",
    "print('t-stat is:',t_stat_soc_depvfam,\n",
    "      'degrees of freedom is:',df_soc_depvfam, 'critical value is:',criticalvalue_soc_depvfam,'p-value:', p_soc_depvfam)"
   ]
  },
  {
   "cell_type": "code",
   "execution_count": 13,
   "metadata": {},
   "outputs": [
    {
     "name": "stdout",
     "output_type": "stream",
     "text": [
      "t-stat is: 0.20985967719288603 degrees of freedom is: 174 critical value is: 1.653658016514993 p-value: 0.834022715880433\n"
     ]
    }
   ],
   "source": [
    "#DEP VS HC - SOC\n",
    "\n",
    "df_soc_depvhc = dep_n + hc_n - 2\n",
    "\n",
    "sed_soc_depvhc = sqrt(dep_social_err**2 + hc_social_err**2) #use ** instead of ^, stupid\n",
    "\n",
    "t_stat_soc_depvhc = (dep_social_avg - hc_social_avg) / sed_soc_depvhc\n",
    "\n",
    "alpha_soc_depvhc = 0.05\n",
    "\n",
    "criticalvalue_soc_depvhc = t.ppf(1.0 - alpha_soc_depvhc, df_soc_depvhc)\n",
    "p_soc_depvhc = (1.0 - t.cdf(abs(t_stat_soc_depvhc), df_soc_depvhc)) * 2.0\n",
    "\n",
    "#FULL RESULTS\n",
    "print('t-stat is:',t_stat_soc_depvhc,\n",
    "      'degrees of freedom is:',df_soc_depvhc, 'critical value is:',criticalvalue_soc_depvhc,'p-value:', p_soc_depvhc)"
   ]
  },
  {
   "cell_type": "code",
   "execution_count": 14,
   "metadata": {},
   "outputs": [
    {
     "name": "stdout",
     "output_type": "stream",
     "text": [
      "t-stat is: 1.3351649027708075 degrees of freedom is: 172 critical value is: 1.6537609493607581 p-value: 0.18358677860926087\n"
     ]
    }
   ],
   "source": [
    "# DEP VS FAM - RAND\n",
    "\n",
    "df_rand_depvfam = dep_n + fam_n - 2\n",
    "\n",
    "sed_rand_depvfam = sqrt(dep_rand_err**2 + fam_rand_err**2) #use ** instead of ^, stupid\n",
    "\n",
    "t_stat_rand_depvfam = (dep_rand_avg - fam_rand_avg) / sed_rand_depvfam\n",
    "\n",
    "alpha_rand_depvfam = 0.05\n",
    "\n",
    "criticalvalue_rand_depvfam = t.ppf(1.0 - alpha_rand_depvfam, df_rand_depvfam)\n",
    "p_rand_depvfam = (1.0 - t.cdf(abs(t_stat_rand_depvfam), df_rand_depvfam)) * 2.0\n",
    "\n",
    "#FULL RESULTS\n",
    "print('t-stat is:',t_stat_soc_depvfam,\n",
    "      'degrees of freedom is:',df_soc_depvfam, 'critical value is:',criticalvalue_soc_depvfam,'p-value:', p_soc_depvfam)"
   ]
  },
  {
   "cell_type": "code",
   "execution_count": 16,
   "metadata": {},
   "outputs": [
    {
     "name": "stdout",
     "output_type": "stream",
     "text": [
      "t-stat is: -0.07278015594030982 degrees of freedom is: 174 critical value is: 1.653658016514993 p-value: 0.9420646558352077\n"
     ]
    }
   ],
   "source": [
    "# DEP VS HC - RAND\n",
    "\n",
    "df_rand_depvhc = dep_n + hc_n - 2\n",
    "\n",
    "sed_rand_depvhc = sqrt(dep_rand_err**2 + hc_rand_err**2) #use ** instead of ^, stupid\n",
    "\n",
    "t_stat_rand_depvhc = (dep_rand_avg - hc_rand_avg) / sed_rand_depvhc\n",
    "\n",
    "alpha_rand_depvhc = 0.05\n",
    "\n",
    "criticalvalue_rand_depvhc = t.ppf(1.0 - alpha_rand_depvhc, df_rand_depvhc)\n",
    "p_rand_depvhc = (1.0 - t.cdf(abs(t_stat_rand_depvhc), df_rand_depvhc)) * 2.0\n",
    "\n",
    "#FULL RESULTS\n",
    "print('t-stat is:',t_stat_rand_depvhc,\n",
    "      'degrees of freedom is:',df_rand_depvhc, 'critical value is:',criticalvalue_rand_depvhc,'p-value:', p_rand_depvhc)"
   ]
  },
  {
   "cell_type": "code",
   "execution_count": 18,
   "metadata": {},
   "outputs": [
    {
     "name": "stdout",
     "output_type": "stream",
     "text": [
      "t-stat is: -1.8149924861994307 degrees of freedom is: 172 critical value is: 1.6537609493607581 p-value: 0.07126710724051577\n"
     ]
    }
   ],
   "source": [
    "#DEP VS FAM - UNSURE\n",
    "\n",
    "df_unsure_depvfam = dep_n + fam_n - 2\n",
    "\n",
    "sed_unsure_depvfam = sqrt(dep_unsure_err**2 + fam_unsure_err**2) #use ** instead of ^, stupid\n",
    "\n",
    "t_stat_unsure_depvfam = (dep_unsure_avg - fam_unsure_avg) / sed_unsure_depvfam\n",
    "\n",
    "alpha_unsure_depvfam = 0.05\n",
    "\n",
    "criticalvalue_unsure_depvfam = t.ppf(1.0 - alpha_unsure_depvfam, df_unsure_depvfam)\n",
    "p_unsure_depvfam = (1.0 - t.cdf(abs(t_stat_unsure_depvfam), df_unsure_depvfam)) * 2.0\n",
    "\n",
    "#FULL RESULTS\n",
    "print('t-stat is:',t_stat_unsure_depvfam,\n",
    "      'degrees of freedom is:',df_unsure_depvfam, 'critical value is:',criticalvalue_unsure_depvfam,'p-value:', p_unsure_depvfam)"
   ]
  },
  {
   "cell_type": "code",
   "execution_count": 19,
   "metadata": {},
   "outputs": [
    {
     "name": "stdout",
     "output_type": "stream",
     "text": [
      "t-stat is: -0.08542781085023722 degrees of freedom is: 174 critical value is: 1.653658016514993 p-value: 0.932019501285813\n"
     ]
    }
   ],
   "source": [
    "#DEP VS HC - UNSURE\n",
    "\n",
    "df_unsure_depvhc = dep_n + hc_n - 2\n",
    "\n",
    "sed_unsure_depvhc = sqrt(dep_unsure_err**2 + hc_unsure_err**2) #use ** instead of ^, weird\n",
    "\n",
    "t_stat_unsure_depvhc = (dep_unsure_avg - hc_unsure_avg) / sed_unsure_depvhc\n",
    "\n",
    "alpha_unsure_depvhc = 0.05\n",
    "\n",
    "criticalvalue_unsure_depvhc = t.ppf(1.0 - alpha_unsure_depvhc, df_unsure_depvhc)\n",
    "p_unsure_depvhc = (1.0 - t.cdf(abs(t_stat_unsure_depvhc), df_unsure_depvhc)) * 2.0\n",
    "\n",
    "#FULL RESULTS\n",
    "print('t-stat is:',t_stat_unsure_depvhc,\n",
    "      'degrees of freedom is:',df_unsure_depvhc, 'critical value is:',criticalvalue_unsure_depvhc,'p-value:', p_unsure_depvhc)"
   ]
  },
  {
   "cell_type": "code",
   "execution_count": 20,
   "metadata": {},
   "outputs": [
    {
     "name": "stdout",
     "output_type": "stream",
     "text": [
      "t-stat is: 0.2101694993581074 degrees of freedom is: 206 critical value is: 1.6522841441882308 p-value: 0.8337431089504215\n"
     ]
    }
   ],
   "source": [
    "#FAM VS HC - UNSURE\n",
    "\n",
    "df_unsure_famvhc = fam_n + hc_n - 2\n",
    "\n",
    "sed_unsure_famvhc = sqrt(fam_unsure_err**2 + hc_unsure_err**2) #use ** instead of ^, weird\n",
    "\n",
    "t_stat_unsure_famvhc = (fam_unsure_avg - hc_unsure_avg) / sed_unsure_famvhc\n",
    "\n",
    "alpha_unsure_famvhc = 0.05\n",
    "\n",
    "criticalvalue_unsure_famvhc = t.ppf(1.0 - alpha_unsure_famvhc, df_unsure_famvhc)\n",
    "p_unsure_famvhc = (1.0 - t.cdf(abs(t_stat_unsure_famvhc), df_unsure_famvhc)) * 2.0\n",
    "\n",
    "#FULL RESULTS\n",
    "print('t-stat is:',t_stat_unsure_famvhc,\n",
    "      'degrees of freedom is:',df_unsure_famvhc, 'critical value is:',criticalvalue_unsure_famvhc,'p-value:', p_unsure_famvhc)"
   ]
  },
  {
   "cell_type": "code",
   "execution_count": null,
   "metadata": {},
   "outputs": [],
   "source": []
  }
 ],
 "metadata": {
  "kernelspec": {
   "display_name": "Python 3",
   "language": "python",
   "name": "python3"
  },
  "language_info": {
   "codemirror_mode": {
    "name": "ipython",
    "version": 3
   },
   "file_extension": ".py",
   "mimetype": "text/x-python",
   "name": "python",
   "nbconvert_exporter": "python",
   "pygments_lexer": "ipython3",
   "version": "3.7.1"
  }
 },
 "nbformat": 4,
 "nbformat_minor": 2
}
