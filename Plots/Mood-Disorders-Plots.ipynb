{
 "cells": [
  {
   "cell_type": "code",
   "execution_count": 239,
   "metadata": {},
   "outputs": [],
   "source": [
    "import pandas as pd\n",
    "import matplotlib.pyplot as plt\n",
    "import numpy as np"
   ]
  },
  {
   "cell_type": "code",
   "execution_count": 242,
   "metadata": {},
   "outputs": [
    {
     "data": {
      "image/png": "[encoded data removed]",
      "text/plain": [
       "<Figure size 432x288 with 1 Axes>"
      ]
     },
     "metadata": {
      "needs_background": "light"
     },
     "output_type": "display_data"
    }
   ],
   "source": [
    "#size attributes of bars\n",
    "barwidth = 0.35\n",
    "\n",
    "#color attributes of bars\n",
    "baredge = 'black'\n",
    "\n",
    "#depbar = '#bb99ff'\n",
    "#hcbar = 'black'\n",
    "#fambar = 'pink'\n",
    "\n",
    "group = ['DEP','FAM','HC']\n",
    "\n",
    "data = [7,1.3,.5]\n",
    "error=[0,0,0]\n",
    "\n",
    "index = np.arange(len(group))\n",
    "\n",
    "ax=plt.bar(index, data, width=barwidth, color='red', edgecolor=baredge, yerr=error, capsize=0)\n",
    "\n",
    "#the depression group bar\n",
    "ax[0].set_color('#75576b')\n",
    "ax[0].set_edgecolor(baredge)\n",
    "#ax[0].set_label(\"Depression\") Legend\n",
    "\n",
    "#the family history bar\n",
    "ax[1].set_color('#ccbddb')\n",
    "ax[1].set_edgecolor(baredge)\n",
    "#ax[1].set_label(\"Family History\") Legend\n",
    "\n",
    "#the HC group bar\n",
    "ax[2].set_color('white')\n",
    "ax[2].set_edgecolor(baredge)\n",
    "#ax[2].set_label(\"Healthy Controls\") Legend\n",
    "\n",
    "\n",
    "plt.rcParams['font.family'] = 'serif'\n",
    "plt.rcParams['font.serif'] = 'Courier New'\n",
    "plt.xticks(index,condition, fontsize=17, fontweight='normal') #it will replace the xposition values with the company names\n",
    "plt.ylabel(\"Avg. Depressive Sx\", fontsize=17, fontweight='normal')\n",
    "plt.title('Depression Sx by Group', fontsize=23, fontweight='ultralight')\n",
    "\n",
    "#plt.legend(loc=(0.65, 0.7)) I dont need a legend for this one\n",
    "\n",
    "#this is how I get the significance star\n",
    "#plt.text(.42,38,\"*\", fontsize=30)\n",
    "\n",
    "#plt.savefig('S3_Baseline_vs_Punishment', dpi=100)\n",
    "\n",
    "\n",
    "plt.show()"
   ]
  },
  {
   "cell_type": "code",
   "execution_count": null,
   "metadata": {},
   "outputs": [],
   "source": []
  }
 ],
 "metadata": {
  "kernelspec": {
   "display_name": "Python 3",
   "language": "python",
   "name": "python3"
  },
  "language_info": {
   "codemirror_mode": {
    "name": "ipython",
    "version": 3
   },
   "file_extension": ".py",
   "mimetype": "text/x-python",
   "name": "python",
   "nbconvert_exporter": "python",
   "pygments_lexer": "ipython3",
   "version": "3.7.1"
  }
 },
 "nbformat": 4,
 "nbformat_minor": 2
}
