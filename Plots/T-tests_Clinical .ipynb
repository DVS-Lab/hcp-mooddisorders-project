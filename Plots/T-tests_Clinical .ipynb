{
 "cells": [
  {
   "cell_type": "code",
   "execution_count": 1,
   "metadata": {},
   "outputs": [],
   "source": [
    "import numpy as np\n",
    "from scipy import stats\n",
    "from scipy.stats import ttest_ind\n",
    "from scipy.stats import t\n",
    "from math import sqrt\n",
    "#population sizes\n",
    "dep_n = 71\n",
    "fam_n = 103\n",
    "hc_n = 105"
   ]
  },
  {
   "cell_type": "code",
   "execution_count": 4,
   "metadata": {},
   "outputs": [
    {
     "name": "stdout",
     "output_type": "stream",
     "text": [
      "t-stat is: 19.22367958893477 degrees of freedom is: 172\n",
      "19.22367958893477 172 1.6537609493607581 0.0\n"
     ]
    }
   ],
   "source": [
    "#DEPRESSION VS FAMILY HISTORY - DEP Sx\n",
    "\n",
    "dep_depsx_avg = 6.718309859\n",
    "fam_depsx_avg = 1.339805825\n",
    "hc_depsx_avg = 0.59047619\n",
    "\n",
    "dep_depsx_err = 0.149018382\n",
    "fam_depsx_err = 0.236798157\n",
    "hc_depsx_err = 0.175252428\n",
    "\n",
    "\n",
    "df_dep_v_fam = dep_n + fam_n - 2\n",
    "\n",
    "sed_dep_v_fam = sqrt(dep_depsx_err**2 + fam_depsx_err**2) #use ** instead of ^, stupid\n",
    "\n",
    "t_stat = (dep_depsx_avg - fam_depsx_avg) / sed_dep_v_fam\n",
    "\n",
    "print('t-stat is:',t_stat,'degrees of freedom is:',df_dep_v_fam)\n",
    "\n",
    "alpha = 0.05\n",
    "criticalvalue = t.ppf(1.0 - alpha, df_dep_v_fam)\n",
    "p = (1.0 - t.cdf(abs(t_stat), df_dep_v_fam)) * 2.0\n",
    "print(t_stat, df_dep_v_fam, criticalvalue, p)\n",
    "\n",
    "\n",
    "\n",
    "\n",
    "#do: fam vs hc depsx\n",
    "\n",
    "\n",
    "# t = (mean(X1) - mean(X2)) / sed\n",
    "\n",
    "# Where X1 and X2 are the first and second data samples\n",
    "# sed is the standard error of the difference between the means.\n",
    "\n",
    "# Calculate standard error of the difference between the means:\n",
    "\n",
    "# sed = sqrt(se1^2 + se2^2)"
   ]
  },
  {
   "cell_type": "code",
   "execution_count": 6,
   "metadata": {},
   "outputs": [
    {
     "name": "stdout",
     "output_type": "stream",
     "text": [
      "t-stat is: 26.637747331081293 degrees of freedom is: 174 critical value is: 1.653658016514993 p-value: 0.0\n"
     ]
    }
   ],
   "source": [
    "# DEPRESSION SX, DEP VS HC \n",
    "\n",
    "df_dep_v_hc = dep_n + hc_n - 2\n",
    "\n",
    "sed_dep_v_hc = sqrt(dep_depsx_err**2 + hc_depsx_err**2) #use ** instead of ^, stupid\n",
    "\n",
    "t_stat = (dep_depsx_avg - hc_depsx_avg) / sed_dep_v_hc\n",
    "\n",
    "alpha = 0.05\n",
    "criticalvalue = t.ppf(1.0 - alpha, df_dep_v_hc)\n",
    "p = (1.0 - t.cdf(abs(t_stat), df_dep_v_hc)) * 2.0\n",
    "print('t-stat is:',t_stat, 'degrees of freedom is:',df_dep_v_hc, 'critical value is:',criticalvalue,'p-value:', p)\n",
    "\n"
   ]
  },
  {
   "cell_type": "code",
   "execution_count": 7,
   "metadata": {},
   "outputs": [
    {
     "name": "stdout",
     "output_type": "stream",
     "text": [
      "t-stat is: 2.543584204456437 degrees of freedom is: 206 critical value is: 1.6522841441882308 p-value: 0.011705772240958368\n"
     ]
    }
   ],
   "source": [
    "# DEPRESSION SX, FAM VS HC \n",
    "\n",
    "df_fam_v_hc = fam_n + hc_n - 2\n",
    "\n",
    "sed_fam_v_hc = sqrt(fam_depsx_err**2 + hc_depsx_err**2) #use ** instead of ^, stupid\n",
    "\n",
    "t_stat = (fam_depsx_avg - hc_depsx_avg) / sed_fam_v_hc\n",
    "\n",
    "alpha = 0.05\n",
    "criticalvalue = t.ppf(1.0 - alpha, df_fam_v_hc)\n",
    "p = (1.0 - t.cdf(abs(t_stat), df_fam_v_hc)) * 2.0\n",
    "print('t-stat is:',t_stat, 'degrees of freedom is:',df_fam_v_hc, 'critical value is:',criticalvalue,'p-value:', p)\n"
   ]
  },
  {
   "cell_type": "code",
   "execution_count": 10,
   "metadata": {},
   "outputs": [
    {
     "name": "stdout",
     "output_type": "stream",
     "text": [
      "t-stat is: 4.39218084943878 degrees of freedom is: 172 critical value is: 1.6537609493607581 p-value: 1.956211543907571e-05\n"
     ]
    }
   ],
   "source": [
    "#t-test for sadness | DEP VS FAM\n",
    "\n",
    "\n",
    "dep_sad_avg = 52.6084507\n",
    "fam_sad_avg = 46.88446602\n",
    "hc_sad_avg = 45.40761905\n",
    "\n",
    "dep_sad_err = 0.994847382\n",
    "fam_sad_err = 0.841822465\n",
    "hc_sad_err = 0.669424737\n",
    "\n",
    "df_dep_v_fam_sad = dep_n + fam_n - 2\n",
    "\n",
    "sed_dep_v_fam_sad = sqrt(dep_sad_err**2 + fam_sad_err**2) #use ** instead of ^, stupid\n",
    "\n",
    "t_stat_sad = (dep_sad_avg - fam_sad_avg) / sed_dep_v_fam_sad\n",
    "\n",
    "alpha = 0.05\n",
    "criticalvalue_sad = t.ppf(1.0 - alpha, df_dep_v_fam_sad)\n",
    "p_sad = (1.0 - t.cdf(abs(t_stat_sad), df_dep_v_fam_sad)) * 2.0\n",
    "print('t-stat is:',t_stat_sad, 'degrees of freedom is:',df_dep_v_fam_sad, 'critical value is:',criticalvalue_sad,'p-value:', p_sad)\n",
    "\n"
   ]
  },
  {
   "cell_type": "code",
   "execution_count": 12,
   "metadata": {},
   "outputs": [
    {
     "name": "stdout",
     "output_type": "stream",
     "text": [
      "t-stat is: 6.005176094420259 degrees of freedom is: 174 critical value is: 1.653658016514993 p-value: 1.0864903865481779e-08\n"
     ]
    }
   ],
   "source": [
    "#t-test for sadness | DEP VS HC\n",
    "\n",
    "\n",
    "dep_sad_avg = 52.6084507\n",
    "fam_sad_avg = 46.88446602\n",
    "hc_sad_avg = 45.40761905\n",
    "\n",
    "dep_sad_err = 0.994847382\n",
    "fam_sad_err = 0.841822465\n",
    "hc_sad_err = 0.669424737\n",
    "\n",
    "df_dep_v_hc_sad = dep_n + hc_n - 2\n",
    "\n",
    "sed_dep_v_hc_sad = sqrt(dep_sad_err**2 + hc_sad_err**2) #use ** instead of ^, stupid\n",
    "\n",
    "depvhc_tstat_sad = (dep_sad_avg - hc_sad_avg) / sed_dep_v_hc_sad\n",
    "\n",
    "alpha = 0.05\n",
    "depvhc_criticalvalue_sad = t.ppf(1.0 - alpha, df_dep_v_hc_sad)\n",
    "depvhc_p_sad = (1.0 - t.cdf(abs(depvhc_tstat_sad), df_dep_v_hc_sad)) * 2.0\n",
    "print('t-stat is:',depvhc_tstat_sad, 'degrees of freedom is:',df_dep_v_hc_sad, 'critical value is:',depvhc_criticalvalue_sad,'p-value:', depvhc_p_sad)\n",
    "\n",
    "\n"
   ]
  },
  {
   "cell_type": "code",
   "execution_count": 13,
   "metadata": {},
   "outputs": [
    {
     "name": "stdout",
     "output_type": "stream",
     "text": [
      "t-stat is: 1.373116484786628 degrees of freedom is: 206 critical value is: 1.6522841441882308 p-value: 0.17120889290452723\n"
     ]
    }
   ],
   "source": [
    "#t-test for sadness | FAM VS HC\n",
    "\n",
    "\n",
    "dep_sad_avg = 52.6084507\n",
    "fam_sad_avg = 46.88446602\n",
    "hc_sad_avg = 45.40761905\n",
    "\n",
    "dep_sad_err = 0.994847382\n",
    "fam_sad_err = 0.841822465\n",
    "hc_sad_err = 0.669424737\n",
    "\n",
    "df_fam_v_hc_sad = fam_n + hc_n - 2\n",
    "\n",
    "sed_fam_v_hc_sad = sqrt(fam_sad_err**2 + hc_sad_err**2) #use ** instead of ^, stupid\n",
    "\n",
    "famvhc_tstat_sad = (fam_sad_avg - hc_sad_avg) / sed_fam_v_hc_sad\n",
    "\n",
    "alpha = 0.05\n",
    "famvhc_criticalvalue_sad = t.ppf(1.0 - alpha, df_fam_v_hc_sad)\n",
    "famvhc_p_sad = (1.0 - t.cdf(abs(famvhc_tstat_sad), df_fam_v_hc_sad)) * 2.0\n",
    "print('t-stat is:',famvhc_tstat_sad, 'degrees of freedom is:',df_fam_v_hc_sad, 'critical value is:',famvhc_criticalvalue_sad,'p-value:', famvhc_p_sad)\n",
    "\n",
    "\n"
   ]
  },
  {
   "cell_type": "code",
   "execution_count": null,
   "metadata": {},
   "outputs": [],
   "source": []
  },
  {
   "cell_type": "code",
   "execution_count": null,
   "metadata": {},
   "outputs": [],
   "source": []
  },
  {
   "cell_type": "code",
   "execution_count": 2,
   "metadata": {},
   "outputs": [
    {
     "name": "stdout",
     "output_type": "stream",
     "text": [
      "t-stat is: 1.3351649027708075 degrees of freedom is: 172 critical value is: 1.6537609493607581 p-value: 0.18358677860926087\n"
     ]
    }
   ],
   "source": [
    "#social ToM task performance\n",
    "\n",
    "dep_social_avg = 51.4084507\n",
    "dep_rand_avg = 43.45070423\n",
    "dep_unsure_avg = 5.14084507\n",
    "\n",
    "fam_social_avg = 49.5631068\n",
    "fam_rand_avg = 42.81553398\n",
    "fam_unsure_avg = 7.621359223\n",
    "\n",
    "hc_social_avg = 49.95238095\n",
    "hc_rand_avg = 44.19047619\n",
    "hc_unsure_avg = 5.857142857\n",
    "\n",
    "\n",
    "dep_social_err = 0.886876704\n",
    "dep_rand_err = 1.154954115\n",
    "dep_unsure_err = 0.924579577\n",
    "\n",
    "fam_social_err = 1.060035837\n",
    "fam_rand_err = 1.184224915\n",
    "fam_unsure_err = 1.006462698\n",
    "\n",
    "hc_social_err = 6.881386478\n",
    "hc_rand_err = 10.09864351\n",
    "hc_unsure_err = 8.333699626\n",
    "\n",
    "\n",
    "# t = (mean(X1) - mean(X2)) / sed\n",
    "\n",
    "# Where X1 and X2 are the first and second data samples\n",
    "# sed is the standard error of the difference between the means.\n",
    "\n",
    "# Calculate standard error of the difference between the means:\n",
    "\n",
    "# sed = sqrt(se1^2 + se2^2)\n",
    "\n",
    "df_soc_depvfam = dep_n + fam_n - 2\n",
    "\n",
    "sed_soc_depvfam = sqrt(dep_social_err**2 + fam_social_err**2) #use ** instead of ^, stupid\n",
    "\n",
    "t_stat_soc_depvfam = (dep_social_avg - fam_social_avg) / sed_soc_depvfam\n",
    "\n",
    "alpha_soc_depvfam = 0.05\n",
    "\n",
    "criticalvalue_soc_depvfam = t.ppf(1.0 - alpha_soc_depvfam, df_soc_depvfam)\n",
    "p_soc_depvfam = (1.0 - t.cdf(abs(t_stat_soc_depvfam), df_soc_depvfam)) * 2.0\n",
    "\n",
    "#FULL RESULTS\n",
    "print('t-stat is:',t_stat_soc_depvfam, 'degrees of freedom is:',df_soc_depvfam, 'critical value is:',criticalvalue_soc_depvfam,'p-value:', p_soc_depvfam)\n",
    "\n",
    "\n"
   ]
  },
  {
   "cell_type": "code",
   "execution_count": null,
   "metadata": {},
   "outputs": [],
   "source": []
  }
 ],
 "metadata": {
  "kernelspec": {
   "display_name": "Python 3",
   "language": "python",
   "name": "python3"
  },
  "language_info": {
   "codemirror_mode": {
    "name": "ipython",
    "version": 3
   },
   "file_extension": ".py",
   "mimetype": "text/x-python",
   "name": "python",
   "nbconvert_exporter": "python",
   "pygments_lexer": "ipython3",
   "version": "3.7.1"
  }
 },
 "nbformat": 4,
 "nbformat_minor": 2
}
