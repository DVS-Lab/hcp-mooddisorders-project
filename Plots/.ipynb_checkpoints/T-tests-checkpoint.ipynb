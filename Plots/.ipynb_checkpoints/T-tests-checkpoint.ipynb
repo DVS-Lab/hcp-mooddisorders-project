{
 "cells": [
  {
   "cell_type": "code",
   "execution_count": 33,
   "metadata": {},
   "outputs": [],
   "source": [
    "import numpy as np\n",
    "from scipy import stats\n",
    "from scipy.stats import ttest_ind\n",
    "from scipy.stats import t\n",
    "from math import sqrt\n",
    "#population sizes\n",
    "dep_n = 71\n",
    "fam_n = 103\n",
    "hc_n = 105"
   ]
  },
  {
   "cell_type": "code",
   "execution_count": 36,
   "metadata": {},
   "outputs": [
    {
     "name": "stdout",
     "output_type": "stream",
     "text": [
      "t-stat is: 19.22367958893477 degrees of freedom is: 172\n",
      "19.22367958893477 172 1.6537609493607581 0.0\n"
     ]
    }
   ],
   "source": [
    "#t-test for depressive sx\n",
    "\n",
    "dep_depsx_avg = 6.718309859\n",
    "fam_depsx_avg = 1.339805825\n",
    "hc_depsx_avg = 0.59047619\n",
    "\n",
    "dep_depsx_err = 0.149018382\n",
    "fam_depsx_err = 0.236798157\n",
    "hc_depsx_err = 0.175252428\n",
    "\n",
    "\n",
    "# t = (mean(X1) - mean(X2)) / sed\n",
    "\n",
    "# Where X1 and X2 are the first and second data samples\n",
    "# sed is the standard error of the difference between the means.\n",
    "\n",
    "# Calculate standard error of the difference between the means:\n",
    "\n",
    "# sed = sqrt(se1^2 + se2^2)\n",
    "\n",
    "df_dep_v_fam = dep_n + fam_n - 2\n",
    "\n",
    "sed_dep_v_fam = sqrt(dep_depsx_err**2 + fam_depsx_err**2) #use ** instead of ^, stupid\n",
    "\n",
    "t_stat = (dep_depsx_avg - fam_depsx_avg) / sed_dep_v_fam\n",
    "\n",
    "print('t-stat is:',t_stat,'degrees of freedom is:',df_dep_v_fam)\n",
    "\n",
    "alpha = 0.05\n",
    "criticalvalue = t.ppf(1.0 - alpha, df_dep_v_fam)\n",
    "p = (1.0 - t.cdf(abs(t_stat), df_dep_v_fam)) * 2.0\n",
    "print(t_stat, df_dep_v_fam, criticalvalue, p)\n",
    "\n",
    "\n",
    "\n",
    "\n",
    "#do: fam vs hc depsx\n"
   ]
  },
  {
   "cell_type": "code",
   "execution_count": null,
   "metadata": {},
   "outputs": [],
   "source": []
  },
  {
   "cell_type": "code",
   "execution_count": null,
   "metadata": {},
   "outputs": [],
   "source": [
    "#t-test for sadness \n",
    "\n",
    "dep_sad_avg = \n",
    "fam_sad_avg = \n",
    "hc_sad_avg = \n",
    "\n",
    "dep_sad_err =\n",
    "fam_sad_err =\n",
    "hc_sad_err = \n",
    "\n",
    "#do dep vs fam, dep vs hc, fam vs hc"
   ]
  },
  {
   "cell_type": "code",
   "execution_count": null,
   "metadata": {},
   "outputs": [],
   "source": [
    "#t-test for alochol \n",
    "\n",
    "dep_drink_avg = \n",
    "fam_drink_avg = \n",
    "hc_drink_avg = \n",
    "\n",
    "dep_drink_err =\n",
    "fam_drink_err =\n",
    "hc_drink_err = \n",
    "\n",
    "#do dep vs fam, dep vs hc, fam vs hc"
   ]
  },
  {
   "cell_type": "code",
   "execution_count": null,
   "metadata": {},
   "outputs": [],
   "source": [
    "#t-test for tobacco \n",
    "\n",
    "dep_tobac_avg = \n",
    "fam_tobac_avg = \n",
    "hc_tobac_avg = \n",
    "\n",
    "dep_tobac_err =\n",
    "fam_tobac_err =\n",
    "hc_tobac_err = \n",
    "\n",
    "#do dep vs fam, dep vs hc, fam vs hc"
   ]
  },
  {
   "cell_type": "code",
   "execution_count": null,
   "metadata": {},
   "outputs": [],
   "source": [
    "#social ToM task performance\n",
    "\n"
   ]
  }
 ],
 "metadata": {
  "kernelspec": {
   "display_name": "Python 3",
   "language": "python",
   "name": "python3"
  },
  "language_info": {
   "codemirror_mode": {
    "name": "ipython",
    "version": 3
   },
   "file_extension": ".py",
   "mimetype": "text/x-python",
   "name": "python",
   "nbconvert_exporter": "python",
   "pygments_lexer": "ipython3",
   "version": "3.7.1"
  }
 },
 "nbformat": 4,
 "nbformat_minor": 2
}
